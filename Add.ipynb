{
  "nbformat": 4,
  "nbformat_minor": 0,
  "metadata": {
    "colab": {
      "provenance": [],
      "authorship_tag": "ABX9TyOGtO07VMc7GeNDMD8Vbooh",
      "include_colab_link": true
    },
    "kernelspec": {
      "name": "python3",
      "display_name": "Python 3"
    },
    "language_info": {
      "name": "python"
    }
  },
  "cells": [
    {
      "cell_type": "markdown",
      "metadata": {
        "id": "view-in-github",
        "colab_type": "text"
      },
      "source": [
        "<a href=\"https://colab.research.google.com/github/apoongodi/kops/blob/master/Add.ipynb\" target=\"_parent\"><img src=\"https://colab.research.google.com/assets/colab-badge.svg\" alt=\"Open In Colab\"/></a>"
      ]
    },
    {
      "cell_type": "code",
      "execution_count": 1,
      "metadata": {
        "colab": {
          "base_uri": "https://localhost:8080/"
        },
        "id": "FfgsqIy9B6gW",
        "outputId": "4ee76731-10a8-473a-d0b6-14c18a99c040"
      },
      "outputs": [
        {
          "output_type": "stream",
          "name": "stdout",
          "text": [
            "Enter 1st number: 1\n",
            "Enter 2nd number: 2\n",
            "Sum of 1 and 2 is 3\n"
          ]
        }
      ],
      "source": [
        "# Online Python - IDE, Editor, Compiler, Interpreter\n",
        "\n",
        "def sum(a, b):\n",
        "    return (a + b)\n",
        "\n",
        "a = int(input('Enter 1st number: '))\n",
        "b = int(input('Enter 2nd number: '))\n",
        "\n",
        "print(f'Sum of {a} and {b} is {sum(a, b)}')\n"
      ]
    }
  ]
}